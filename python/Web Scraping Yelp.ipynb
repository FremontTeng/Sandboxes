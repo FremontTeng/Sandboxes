{
 "cells": [
  {
   "cell_type": "code",
   "execution_count": 3,
   "metadata": {},
   "outputs": [],
   "source": [
    "import bs4 as bs\n",
    "\n",
    "import re"
   ]
  },
  {
   "cell_type": "code",
   "execution_count": 4,
   "metadata": {},
   "outputs": [],
   "source": [
    "import urllib.request as url"
   ]
  },
  {
   "cell_type": "code",
   "execution_count": 5,
   "metadata": {},
   "outputs": [],
   "source": [
    "source = url.urlopen('https://www.yelp.com/biz/clinton-street-baking-company-and-restaurant-singapore?osq=Waffles&sort_by=rating_asc')"
   ]
  },
  {
   "cell_type": "code",
   "execution_count": 6,
   "metadata": {},
   "outputs": [],
   "source": [
    "page_soup = bs.BeautifulSoup(source, 'html.parser')"
   ]
  },
  {
   "cell_type": "code",
   "execution_count": 7,
   "metadata": {},
   "outputs": [],
   "source": [
    "mains = page_soup.find_all(\"div\", {\"class\": \"lemon--div__373c0__1mboc arrange-unit__373c0__o3tjT arrange-unit-grid-column--8__373c0__2dUx_ border-color--default__373c0__3-ifU\"})"
   ]
  },
  {
   "cell_type": "code",
   "execution_count": 9,
   "metadata": {},
   "outputs": [
    {
     "output_type": "execute_result",
     "data": {
      "text/plain": [
       "22"
      ]
     },
     "metadata": {},
     "execution_count": 9
    }
   ],
   "source": [
    "#Save in a file\n",
    "filename = \"yelp_Clinton_Street_Baking Company_&_Restaurant.csv\"\n",
    "\n",
    "f = open(filename, \"w\")\n",
    "\n",
    "header = \"Review Rating, Reviews\"\n",
    "\n",
    "f.write(header)"
   ]
  },
  {
   "cell_type": "code",
   "execution_count": 11,
   "metadata": {},
   "outputs": [
    {
     "output_type": "stream",
     "name": "stdout",
     "text": [
      "\n====Review 0 ====\n--Cannot find ratings--\n\n1 star ratingEek! Methinks not.2 star ratingMeh. I've experienced better.3 star rating4 star ratingYay! I'm a fan.5 star ratingWoohoo! As good as it gets!Start your review of Clinton Street Baking Company &amp; Restaurant\nError\n\n====Review 1 ====\nRating: 1 star rating\n\nEverything should be half the price.  For the same price you can get three times the quality at P.S. Cafe.  Dishes with eggs were underseasoned and in lack of flavor.  The 20 dollar omelet has an egg to stuffing ratio of 5:1.  Not coming back. Coffee was good..css-1c2abjj.css-1c2abjj svg\n\n====Review 2 ====\nRating: 1 star rating\n\nWe went here for breakfast and we're not really impressed. They got one of our orders wrong, completely forgot another and had zero apologies for it all. Food is really mediocre for the price. All the egg dishes were well prepared but everything else on the plate was unappetizing. The biscuits were dry, the ham was leathery, the bread was stale. Would not recommend at all.\n\n====Review 3 ====\nRating: 1 star rating\n\n.css-z6383k.css-z6383k svg 1 check-inThis was easily the worst experience we had anywhere on our entire trip.Left waiting for 20 minutes to place our order while the table next to us, seated after we arrived, placed and received their order. We were generally ignored by the staff--and at the end we paid 10% extra for their \"service.\"Do yourself a favor and go elsewhere.Useful \n\n====Review 4 ====\nRating: 1 star rating\n\n 1 check-inI had spinach egg for breakfast. It tasted absolutely bland, tasteless. The portion of the orange juice is way too little. Not worth the price .. It's not the breakfast to die as compared in states. Lastly, customer service was bad. Coffee is good tho.Useful \n\n====Review 5 ====\nRating: 2 star rating\n\nI came here because the hotel breakfast at the Intercontinental was $S30 a pop, and I thought I could do better -- or at least the same for less. So I decided to go to Killiney Kopitiam but my Ang Moh instincts took over while passing the lower-rated Clinton Street Baking Co. They had muffins on display and I am partial to Western breakfasts. So I was sucked in. The first thing I saw from the menu was it was not going to be much less expensive. So maybe it'll be great? Same for more?I ordered what I thought was their signature omelette because it had their name on it. But it only comes with two add-in ingredients (besides the eggs, of course). And apparently nothing but those two plus the eggs because when the omelette arrived I was asked if I wanted salt, pepper, or catsup. The first sign of cooking mediocrity is the need to season it with any of those things after cooking, especially a $20 omelette. If I'd known I would have chosen bacon to go in there. Ugh. It was so bland. And dry. I regretted not asking for catsup. I regretted more not having salsa, which is the best cure for bland eggs.The hash browns, though, were remarkable. If it was a two-egg omelette instead of a three-egger I was pushing through I would have savored them more. My cappuccino was also well done. Final tally, $S33!At the hotel I could have bottomless juice, cappuccinos, an array of Japanese, Chinese, Indian, and Western breakfast items. Smoked salmon with capers. Fresh-made waffles. Croissants and danishes. Fresh fruit. I got less for more. I'm kind of amazed they didn't have oatmeal (or porridge) on the menu. My punishment for not going to the kopitiam.\n\n====Review 6 ====\nRating: 2 star rating\n\nThat moment when you're in an entirely different country and you see they have your favorite NYC breakfast spot is in Singapore!!!! BUT  it's no where near as good and your charged double the price. Very disappointing. :(\n\n====Review 7 ====\nRating: 2 star rating\n\nBreakfast was mediocre. Nothing crazy or wow about. Overpriced as well. Would I recommend? Sure, if there's nothing else on the block to eat. Otherwise, it's not worth a visit.\n\n====Review 8 ====\nRating: 3 star rating\n\n.css-1qkiuob.css-1qkiuob svg 1 photoClean and nice interior. Friendly staff. However, the food was not up to expectations, the fried chicken waffle was horrible. Doesn't taste like good fried chicken and waffle was not crispy but soft. the pancakes with blueberries were ok, pretty thick pieces!\n\n====Review 9 ====\nRating: 3 star rating\n\nVery disappointed in this place. Over priced for such mediocre food. Eggs were over cooked, sausage patties and the piece of ham were not very flavorful. I also personally didn't like the strong flavor of the cheese. Coffee wasn't that great either. All in all, not worth the price. Mediocre food for high end price.\n\n====Review 10 ====\nRating: 3 star rating\n\nThis outpost of Clinton St. doesn't hold up the reputation or quality of the original in NYC, where I'd queue for 45 minutes in a blizzard for that alpha dog eggs Benedict. Not here though. I will give it another try, but the taste is way off. Hopefully, they've ironed out the kinks.\n\n====Review 11 ====\nRating: 3 star rating\n\nHad the Rosti with smoked salmon. I find it too crispy for my liking but it wasn't that bad. The blueberry pancakes were not bad. Service was pretty okay. I thought the design of the place was quite cool. It had a American diner vibe with ample seating.\n\n====Review 12 ====\nRating: 3 star rating\n\n 5 photosThis morning we had breakfast here. Overall quality of foods was good but not exceptionally good but the serving was generous. Service quite good too. We asked the leftovers to be put in the box and they did it nicely. A bit pricey too.See all photos from Suria N. for Clinton Street Baking Company &amp; RestaurantUseful Funny Cool \n\n====Review 13 ====\nRating: 3 star rating\n\nSimilar to the NY original (which I find overpriced and overhyped) except this place didn't have any queue on Saturday at 2pm. I just walked right in. AMAZING!Serves your standard easy-to-make-at-home-but-why-bother-lets-just-pay-lots-of-money American brunch fare: chicken and waffles, their famous blueberry pancakes, milkshakes. You know, all that healthy stuff that keeps Americans so notoriously thin.Useful Funny Cool \n\n====Review 14 ====\nRating: 3 star rating\n\n 1 photoBeing a fan of the pancakes and southern breakfast of the original Clinton St baking company in NYC, we excitedly arranged to meet at this place for brunch to reminisce our old NYC days. Recommendation- just stick to the fried chicken and pancakes. They were tasty and definitely of similar standards to the dishes we had in NYC.. however, what really disappointed us was their 'cheesy grits'. It looked and tasted like oatmeal porridge; and when we tried to tell them that was not definitely not grit, they checked and confirmed it was 'grit' made from 'barley' and they followed the original recipe. Com'on.. if it's not grit, don't insist it is and bullshit us like we are some ignorant customers. I would have accepted a yes sorry it's not easy to find grits and this is what we have used to replace it.. google grit and it is 'Grits is a food made from corn that is ground into a coarse meal and then boiled.' Suggestion to the chef - even polenta has a more similar taste and texture to real grits than whatever you are serving now. Next is the corn bread which has a ginseng taste to it. It happens that my friend liked ginseng and hence liked it.. otherwise I would not recommend you order that either. Spinach was cooked like Chinese style and a bit bland. All in all nice environment but not sure I'll be back for the food.\n\n====Review 15 ====\nRating: 3 star rating\n\n 1 check-inI had heard about this place from a few people.  I tasked myself for bringing a pumpkin pie for a Thanksgiving get together, i wanted a back up.  I called the week before and they mentioned that the seasonal pies (pumpkin and pecan were $55)  Nope.  I ended up baking one, but still wanted another desert so I decided to pop by on Sunday because I wanted breakfast and needed a back up dessert.  I ordered the breakfast sandwich that came with spinach, bacon, egg and cheese on a biscuit.  Now, this place is supposedly by the same company as the one in NY, so my expectations were high.  I'm from the South, so you better bring your A game when it comes to biscuits.  I ordered and my food came out before my latte.  It looked awful and for $18, I was not happy.  The cheese looked like it was under a heat lamp for the last hour, the hashbrowns were burnt, and the one side of the biscuit had what looked like a tomato sauce on it.  WTF?  The bacon was so sad and undercooked I just couldn't touch it.  I ate a tiny piece of the biscuit, and drank my latte.  The waitress was nice enough to ask me what was wrong in which I told her it looked like my meal came from when Bush was President, and asked if I wanted a replacement.  The pancakes looked really good but by this time I needed to get outta there.  I did order a Strawberry Rubarb pie to take with, and they took off my breakfast off my bill.  They also game me a large take away biscuit for good measure which by itself was really tasty.  Everyone at Thanksgiving liked the pie, I didn't taste it.  I doubt I'd come back here there are just too many good options for brunch in Singapore to strike out again.Useful Funny Cool \n\n====Review 16 ====\nRating: 3 star rating\n\n 2 photos 1 check-inTried the much-lauded fried chicken today - the chicken and waffles and chicken plate. Didn't like the way the chicken was prepared for the waffles (boneless fillets with a thin batter) as it was rather dry. Chicken plate was VERY generous with literally half a chicken on the plate, along with a decent chunk of corn bread and small token coleslaw. The batter on the chicken plate was better, buttermilk, and had a good crunch. Unfortunately, it was either bad / old oil or the oil was too hot, but ultimately had a burnt and slightly acrid flavour. The flavour and seasoning wasn't great either so I found it rather plain overall. I'd go back for a shake or some of the desserts, and maybe give the pancakes another shot. All the other tables' food looked well prepared and equally generous, so value for money is decent (by Singapore standards for these sort of establishments). Service was clinical and efficient without being particularly friendly.  Venue itself was quite cramped with tables extremely close to each other. I went to the original store in NYC, and was not that impressed by it either. Thankfully the ludicrous hype has died down and we got a table with no issues on a Sunday at 1pm.Useful Funny \n\n====Review 17 ====\nRating: 3 star rating\n\nWent for the chicken and waffles - they were amazing! The batter on the chicken was light and NOT greasy! We loved the flavoring of the chicken batter, and it was moist chicken breast! We tried the fried chicken. Four pieces of chicken which were moist and yummy. Great flavoring in the batter. The jalapeño cornbread was quite large and yummy. We got a blueberry shake. Unfortunately, it was not worth the price, but everything else was yummy! This was my second time, and this time the service was awful. (Luckily the food is so yummy!) I had taken friends, and they were very disappointed in the service. It was early in the evening (a bit after 5pm) and not very busy. So, I have no idea why the service (refills, order taken, food coming out at different times) was slow. Still would go back because the food was yummy!\n\n====Review 18 ====\nRating: 3 star rating\n\nA pretty basic place. Came here because I was craving Pancakes &amp; they were pretty good. I enjoyed the blueberries  and the sauce with the pancakes which I felt were a good combination. I wished they gave more blueberries because towards the end it started to get pretty dry. The sauce also started to get too sweet once the blueberries finished. But the pancakes were fluffy and tasty. The chicken and waffles were a disappointment. I admit the waffles were done differently and could be subjectively just not up to my taste. But the chicken was poor. Tasteless, kinda soggy and dry. The sweet sauce didn't really go well with this and overall I'm really not a fan of this dish. Ordered the grits as well which was horrible. Could tell they didn't know how to cook cheese &amp; grits and it is not like what it's meant to be like. Very dry and undercooked. Flavourless.. bah horrible. The sausage patty was just. Minced meat smashed &amp; fried? Not what you'd expect. Disappointing because on the menu it said Sausage &amp; Maple.\n\n====Review 19 ====\nRating: 3 star rating\n\n 2 check-insGreat food, but while eating my breakfast they have decided it's a great time to fix the door hinge to the entrance which consists of some ass hat pounding and tapping on it during my entire meal.  Clueless and ruined my experience.  Would have been awesome other than that.\n\n====Review 20 ====\nRating: 3 star rating\n\n 4 photosLocated in the middle of Purvis Street, is this cafe called Clinton Street Baking Company. Its main outlet is in New York, United States. It is well known for its pancake and is known as \"New York's # 1 breakfast spot\" by Lonely Planet, as well as, \"Best Pancakes\" by New York Magazine (twice). The place was decorated in a traditional, clean cut look.The usual menu was presented in a booklet.Besides the usual menu, there is daily special items on the board,as well as, dinner special items.Boozy Salted Caramel ($15++ left)vanilla ice cream, bourbon, salted caramel sauceWithout alcohol ($10++ right)Pretty strong in the alcohol. The drink tasted very rich and creamy, but could not taste the salted caramel in it.Crab Cakes ($15++)Two crab cakes, served with classic remoulade, and house slaw.The crab cake was moist and creamy inside with chunks of crab meat in it.Chicken &amp; Waffles ($21++)with honey-Tabasco sauce, a crispy Belgian vanilla buttermilk waffle, and signature warm maple butter.The chicken was served char burnt, which made one quite disappointed. Some parts of the batter was just too hard and bitter to be eaten. One had to remove the batter coating in order to eat. Although the staff saw that we had left much of the batter untouch when clearing the plates, no one asked us about the food. The waffle was not the usual crispy and fluffy type. Instead it was eggy and soft. More like kueh kueh type. Not bad with the maple butter sauce. But not really my type.Pancakes with Warm Maple Butter ($18++)Served with wild blueberries.The first which I notice when the dish was served, was that the pancakes were super thick in size. The pancake was fluffy and soft, with a kind of eggy taste. Some may felt that the blueberries was a bit too sour. Nice but could not take in more a piece of pancake. It was way too much for me.Overall felt that the food was overrated. Maybe I was expecting too much but it just did not blow me off. Although the place looked sparkling clean, I was surprised to see a certain small animal running through the dining area. No wonder the place had placed a notice that it would be closed early for maintenance on the coming Monday. I soon lost my appetite after that and trying to vomit everything out.See all photos from Doreen T. for Clinton Street Baking Company &amp; RestaurantUseful Funny Cool \n\n====Review 21 ====\n--Cannot find ratings--\n\nCopyright © 2004–2020 Yelp Inc. Yelp, ,   and related marks are registered trademarks of Yelp.\n"
     ]
    }
   ],
   "source": [
    "#Set loop over 1 attribute\n",
    "count = 0\n",
    "for main in mains:\n",
    "    print()\n",
    "    print(\"====Review\",count,\"====\")\n",
    "    reviews = \"\"\n",
    "    try:\n",
    "        try:\n",
    "            ratings = main.find(\"span\", {\"class\": \"lemon--span__373c0__3997G display--inline__373c0__3JqBP border-color--default__373c0__3-ifU\"}).div.get('aria-label')\n",
    "            print(\"Rating:\",ratings)\n",
    "        except:\n",
    "            print(\"--Cannot find ratings--\")\n",
    "        print()\n",
    "        #Code to clean for angular brackets < >\n",
    "        p = re.compile('\\<.*?(\\S*)?\\>')\n",
    "        cleaned_item = re.sub('\\<.*?(\\S*)?\\>','',str(main))\n",
    "        #Code to clean for angular brackets {}\n",
    "        p = re.compile('\\{.*?(\\S*)?\\}')\n",
    "        cleaned_item = re.sub('\\{.*?(\\S*)?\\}','',str(cleaned_item))\n",
    "        print(cleaned_item)\n",
    "        reviews = cleaned_item\n",
    "        f.write(\"\\n\" + ratings + \",\" + reviews )\n",
    "    except:\n",
    "        print(\"Error\")\n",
    "        \n",
    "    count+=1\n",
    "    \n",
    "f.close()"
   ]
  },
  {
   "cell_type": "code",
   "execution_count": null,
   "metadata": {},
   "outputs": [],
   "source": []
  }
 ],
 "metadata": {
  "kernelspec": {
   "display_name": "Python 3",
   "language": "python",
   "name": "python3"
  },
  "language_info": {
   "codemirror_mode": {
    "name": "ipython",
    "version": 3
   },
   "file_extension": ".py",
   "mimetype": "text/x-python",
   "name": "python",
   "nbconvert_exporter": "python",
   "pygments_lexer": "ipython3",
   "version": "3.8.5-final"
  }
 },
 "nbformat": 4,
 "nbformat_minor": 2
}