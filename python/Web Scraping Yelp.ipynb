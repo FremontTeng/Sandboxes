{
 "cells": [
  {
   "cell_type": "code",
   "execution_count": 50,
   "metadata": {},
   "outputs": [],
   "source": [
    "import bs4 as bs\n",
    "import re\n",
    "import urllib.request as url"
   ]
  },
  {
   "cell_type": "code",
   "execution_count": 28,
   "metadata": {},
   "outputs": [],
   "source": []
  },
  {
   "cell_type": "code",
   "execution_count": 42,
   "metadata": {},
   "outputs": [],
   "source": [
    "reviewDict = []"
   ]
  },
  {
   "cell_type": "code",
   "execution_count": 48,
   "metadata": {},
   "outputs": [],
   "source": [
    "#Save in a file\n",
    "filename = \"yelp_Clinton_Street_Baking Company_&_Restaurant_scrapped.csv\"\n",
    "\n",
    "f = open(filename, \"w\")"
   ]
  },
  {
   "cell_type": "code",
   "execution_count": 44,
   "metadata": {},
   "outputs": [],
   "source": [
    "#reviewNo = [0,20,40,60]\n",
    "reviewNo = str(20)"
   ]
  },
  {
   "cell_type": "code",
   "execution_count": 45,
   "metadata": {},
   "outputs": [],
   "source": [
    "source = url.urlopen('https://www.yelp.com/biz/clinton-street-baking-company-and-restaurant-singapore?osq=Waffles&start='+reviewNo+'&sort_by=rating_desc')"
   ]
  },
  {
   "cell_type": "code",
   "execution_count": 46,
   "metadata": {},
   "outputs": [],
   "source": [
    "page_soup = bs.BeautifulSoup(source, 'html.parser')"
   ]
  },
  {
   "cell_type": "code",
   "execution_count": 47,
   "metadata": {},
   "outputs": [],
   "source": [
    "mains = page_soup.find_all(\"div\", {\"class\": \"lemon--div__373c0__1mboc arrange-unit__373c0__o3tjT arrange-unit-grid-column--8__373c0__2dUx_ border-color--default__373c0__3-ifU\"})"
   ]
  },
  {
   "cell_type": "code",
   "execution_count": 43,
   "metadata": {},
   "outputs": [
    {
     "output_type": "stream",
     "name": "stdout",
     "text": [
      "\n====Review 0 ====\n--Cannot find ratings--\n\n1 star ratingEek! Methinks not.2 star ratingMeh. I've experienced better.3 star rating4 star ratingYay! I'm a fan.5 star ratingWoohoo! As good as it gets!Start your review of Clinton Street Baking Company &amp; Restaurant\n\n====Review 1 ====\nRating: 4 star rating\n\nThe service was great and the atmosphere was too. I ordered the blueberry pancakes and the veggie sandwich, the veggie sandwich was good, it was packed with avocados which is a plus but it's a little bit pricy, the pancakes's however, tasted incredible along with the warm maple butter and the blueberries on top of it. 10/10 would recommend y'all to come here just to get a taste of the pancakes!!.css-1c2abjj.css-1c2abjj svg\n\n====Review 2 ====\nRating: 4 star rating\n\n.css-1qkiuob.css-1qkiuob svg 1 photoBest fluffy pancakes in Singapore.  Love the sausage patties.  Huevos Rancheros is my go-to Dish.  The only item I'd say doesn't tickle my fancy is the sugared bacon.  I like my bacon unsweetened; will try to order that next visit.Useful Cool \n\n====Review 3 ====\nRating: 4 star rating\n\nYou know it's good when there is queue outside!Indulgent, perfect for those on vacation and want to splurge for those who have a moment of 'I worked hard all year, I deserve this'\n\n====Review 4 ====\nRating: 4 star rating\n\n 2 photos.css-z6383k.css-z6383k svg 1 check-inFinally, a good American diner style breakfast place in Singapore! The food here is pretty good - I've tried the pancakes with warm maple butter + banana walnut, as well as chicken and waffles. Both were really good! The pancakes were extremely fluffy, and are in my opinion one of the best you can find in here.... and the warm maple butter they're served with was also heavenly!!\n\n====Review 5 ====\nRating: 4 star rating\n\n 3 photosI'm from NYC and have been dying to go to this place so I was extremely surprised when I saw it pop up on yelp while searching for breakfast. When we first arrived, we were told it would be a 15 minute wait but then was seated promptly. We ordered chicken and waffles,  banana walnut pancakes and the biscuit egg sandwich. Being from NY, I was definitely shocked by how good the food was here in Singapore. The eggs on the biscuit sandwich was cooked perfectly. The only thing I didn't like was the tomato sauce on the biscuit sandwich. I wish this sandwich was a little bigger though. The potatoes that came with the sandwich were also delicious. The pancakes were light and fluffy and just the right portion. The chicken and waffles was also another fantastic dish with the chicken being nice and crispy.  I will say the service was subpar. No one came over to ask how our meal was nor did they clear our plates or deliver the check at a reasonable time; we had to ask a different waiter for it. Overall, four stars and I can't wait to now try the NY location.\n\n====Review 6 ====\nRating: 4 star rating\n\nWe had the farmers plate and the butter milk biscuit sandwich. On both dishes the scrambled eggs were done perfectly. The buttermilk biscuit sandwich was tasty--the biscuit crunchy on the outside and buttery inside. Bacon was tasty. The farmers plate was a healthy amount of food. Pork patties were flavorful and had just a slight kick. Sourdough bread was a little skimpy. Coffee was good, especially if you are tired of the local. The restaurant is pleasant, sunny with great staff. Prices are on the high side-- we spent nearly $50 for breakfast.\n\n====Review 7 ====\nRating: 4 star rating\n\n 3 check-insThis is my 2nd visit, I love the pancake and also the chicken and waffle. The maple butterscotch syrup is a bomb! Supper yummy but can be too sweet for some people, so advice don't pour it a one go. Portion can be huge if you don't have a big appetite  Can be crowed during weekend and dinner time, so advice to make your reservation in advance if you planing dinner or weekend brunch here.Tips : You can make reservation via Chope app.\n\n====Review 8 ====\nRating: 4 star rating\n\n 1 photoChicken and waffle. Without the sauce, the waffle is too sweet for me. The chicken is boneless and has an nice crisp. Somehow, it doesn't sit well with me. It's alright. Not wow. Satiates a craving.\n\n====Review 9 ====\nRating: 4 star rating\n\nGreat breakfast; I had the huevos rancheros. Pleasantly surprised to find a Mexican classic in Singapore. Our table shared the special pancakes of the month with rum, coconut, and bananas which were absolutely divine.\n\n====Review 10 ====\nRating: 4 star rating\n\n 4 photos 1 check-inIf you're looking for a typical American diner style breakfast, Clinton's is definitely the place for you. The portions were more than generous (though still not as massive as the portions in the States), the food quality was pretty good as well!I had the Farmer's platter (or breakfast, can't remember the exact title now), and I loved how well the eggs were done; slightly runny, just to my liking.  Everything was a little sweet (as if coated with maple syrup), but I think it blended well together. I would definitely get the pancakes the next time I visit this place; the Nutella one looked AWESOME!Just to throw some caution; they're pretty strict on reservations. Also, they only can confirm a reservation of up to 6 pax, any more they can't confirm/have to walk in.See all photos from Alyssa Chloe T. for Clinton Street Baking Company &amp; Restaurant\n\n====Review 11 ====\nRating: 4 star rating\n\nGreat breakfast food, busy, yet nice atmosphere and mediocre service. Went on a Saturday afternoon for a late lunch and they were still very busy. Sat at the counter and ate which gave me a front row seat to the controlled chaos of servers flying around picking up orders and ringing up customers. The service could have been better - no one spoke to me after I ordered to check on the food or pour more coffee and I had to ask for the check.  Had the chicken and waffles which was quite good, especially with their green jalapeño based hot sauce. Add the maple butter and you're good to go. I agree with another review that the waffle could have been a little more well done, especially to support the fried chicken but still worth getting. Will definitely be back for those pancakes.Useful \n\n====Review 12 ====\nRating: 4 star rating\n\n 5 photos 1 check-inIf you're after a substantial American style breakfast or brunch Clinton Street Baking Co is a decent option. The servings are massive, just like in The States, but the prices reflect the portion size. They have a lot of the classics here; pancakes, eggs on toast, a big breakfast etc. I thought they might have more baked goods on offer in the display cabinet given the business name, but there were just a few scones and muffins. I opted for the smoked salmon scrambled eggs and was not disappointed.See all photos from Juliana K. for Clinton Street Baking Company &amp; RestaurantUseful Funny Cool \n\n====Review 13 ====\nRating: 4 star rating\n\n 1 check-inDidn't have to queue on a weekday afternoon.Blueberry pancakes - 4 starsGood, fluffy, standard fare. Nothing spectacular IMO. I would've preferred plain maple syrup to the maple butter and would've liked more blueberries on top but there was a decent number of blueberries in the pancakes themselves.Spanish scramble - 4 starsAn omelette with chorizo and caramelized onions. Well done.The brunch dishes taste better than those over at Wild Honey though Wild Honey is more conveniently located. I'd pick this one if I were picking based on food alone.Update 17 Apr 2017Black Angus Cheeseburger ($23++=$27) - 3 stars3.5-0.5 stars for the price (I like my math apparently). Everything on the burger - the caramelized onions, the cheese was good, and the meat itself was juicy but BLAND. I got it medium and it was still kinda red and oozed... The fries were mediocre - salty and crispy but again the taste wasn't great. The slaw was alright. I appreciated the pickle! Overall okay...Wifi only for phones. They won't type it in for your tablet or laptop.4 stars for the ambience. Nice bright and roomy.Useful Funny Cool \n\n====Review 14 ====\nRating: 4 star rating\n\n 1 photoHas the typical American bistro surroundings so for those that miss home, this is where you should be going to. Food is consistent every visit, and on the weekdays at around 1.30pm we could instantly get seats for two. Drinks are really expensive and personally I think water would suffice as the dishes are rather savory. Portions are good old American portions, so for small eaters please do share with your pal. Had the Southern breakfast today. Bacon was drenched in honey, cheese grits are perfectly on point, fried zucchini and poached eggs complemented well on the whole. Average cafe food but decent within the 10mile radius. Kids friendly, selfie friendly as place is well lit with sufficient lighting.Useful Cool \n\n====Review 15 ====\nRating: 4 star rating\n\n.css-vuvvb9.css-vuvvb9 svgUpdated review 5 photos 2 check-insBack again on a Saturday night for dinner and this time, we had the Angus cheeseburger, chicken and waffle, Clinton St omelette and buttermilk biscuit sandwich...oh and of course the blueberry pancakes. Friends loved the food, particularly the blueberry pancakes and the buttermilk biscuit sandwich. I had the chicken and waffle; I would prefer if the chicken was more deep fried and crispy, though the waffle was tasty with the maple butter. The Angus cheeseburger looked delightful and we particularly enjoyed the very tasty fries. Portions were satisfying and we barely had space for desserts - could only make room for 3 pancakes amongst a party of 6. The bill was about $30 per person. I had made reservations by phone which was painless, though I wish they have an online option. It's interesting that's not available, considering the reservation confirmation was done via an automated system. We'll be back again to try more of their desserts.Useful Funny Cool Previous reviewI first had this back in NYC but it really didn't blow me away. Perhaps they were having a bad day. But it explains why I've been reluctant to visit, particularly in view of the long queues supposedly. I finally made it here last night and I'm kind of sorry I took so long. Opening hours have been extended to 10pm which was perfect as we were looking for a place for desserts after dinner. We had the blueberry pancakes, chocolate and banana cream pie and salted caramel milkshake. The pie ($8) was unexpectedly delicious, a balanced combination of chocolate and banana flavours, and I am definitely going to return for more. It was so good we didn't have time to take a picture because we were busy gobbling it down. The pancakes ($18) were fluffy though I think they can be more generous with the blueberries. I thought it was slightly better than the NY outlet but my friend thinks otherwise. The milkshake ($10) was delightfully thick and creamy without being overly sweet. Unfortunately, they ran out of rum so we couldn't try the \"boozy\" version. I really liked that it wasn't crowded at night and am looking forward to my next visit.Read more\n\n====Review 16 ====\nRating: 4 star rating\n\n 1 check-inLoved the thick, fluffy pancakes and maple butter! Do share the food if you're a small eater. Waitresses were so polite. Loved their service. We waited for a few minutes to be served as it was quite packed on a Sunday morning. Poached eggs were a tad disappointing as they didn't drain the water. So the eggs were sitting in a pool of water. If you're the type who doesn't like sweet-tasting mocha, then this is the place. But it was a tad watery to my liking. Overall, enjoyed the place. Wouldn't mind heading there again to try the other food.Useful \n\n====Review 17 ====\nRating: 4 star rating\n\n 2 photosI missed checking this place out in New York so I was really happy to find that it's now in Singapore! There wasn't an savory + sweet combo for pancakes so I ordered a wild blueberry pancake and added bacon. The pancakes were sooooo fluffy and when paired with the sour-ish berries and sweet syrup, it was great! The bacon was too hard for my liking. Be ready to spend a bit, the pancake with a side of bacon, coffee and juice came up to $42\n\n====Review 18 ====\nRating: 4 star rating\n\n 1 photoHaving been to their original location in LES multiple times, I was very impressed with the pancakes at their new establishment in Singapore. (Let's be honest here, most of the restaurants that have opened up branches in Singapore are disappointments compared to their original location overseas. E.g., Lady M, Din Tai Fung, Tim Ho Wan, Lawrys, etc.) We came for lunch on a weekday, around 11:40, so there was no wait. My pancakes were fluffy and moist, and my friend's country breakfast also looked delicious. My only complaint is with the service, which was rather slow. We had to flag down the server a couple times to order our food, even though the restaurant was only half full. Will def be back again soon!Useful Funny Cool \n\n====Review 19 ====\nRating: 4 star rating\n\n 1 photoTo summarize it all in a word, pancakes. EAT the pancakes.Clinton St Baking Co. of Manhattan's Lower East Side finally lands in Singapore with a huge splash, with glowing reviews in the island's English language broadsheet, and features on TV.Stepping inside, the dining room successfully recreates that typical American diner feel, similar to the original in NY (but definitely much newer).The entrees were decently good, but I'd recommend the pancakes above everything else. Fluffy on the inside, crispy on the outside, paired with a sinful maple-butter sauce that's just amazing as it is calorific. Blueberry, banana walnut or chocolate chunk, they're all good. The house brew is drip coffee, and refills are free!They had a couple of Southern offerings on the menu, but IMO they were Northern interpretations of Southern food. I liked that the buttermilk fried chicken had cornmeal in the batter, however the batter lost its crunchiness rather quickly and fell off the chicken before you had a chance to bite it. Conclusion, stick to the pancakes.They don't take reservations, and weekend brunch lines are an hour wait or more. To avoid the crowds, I recommend coming in on a weekday, or late in the afternoon on a weekend, or heading for the pastry &amp; coffee takeout counter instead.It's been a while since I was back in Manhattan, and I personally have not been to the original on Clinton St (there, I heard the lines are an hour long too), but comparing this to other brunch type places in Singapore they pretty much come out tops. 3 if this is a place in the US, 4 cos it's in Singapore.Useful Cool \n\n====Review 20 ====\nRating: 4 star rating\n\n 2 photosA great spot for a classic American breakfast. We had blueberry pancakes, French toast and the Farmer's breakfast. All were excellent and the portions are massive, you certainly won't go hungry! If you go on the weekend I would get there when it opens if you don't want to wait. There were 12 of us waiting by the time it opened. I'll definitely be back to sample some of their non-breakfast items at some point. The service was a bit slow. I think the young staff are a bit overwhelmed. Hopefully that will improve with time.Useful Cool \n\n====Review 21 ====\n--Cannot find ratings--\n\nCopyright © 2004–2020 Yelp Inc. Yelp, ,   and related marks are registered trademarks of Yelp.\n"
     ]
    }
   ],
   "source": [
    "#Set loop over 1 attribute\n",
    "count = 0\n",
    "for main in mains:\n",
    "    print()\n",
    "    print(\"====Review\",count,\"====\")\n",
    "    reviews = \"\"\n",
    "    try:\n",
    "        try:\n",
    "            ratings = main.find(\"span\", {\"class\": \"lemon--span__373c0__3997G display--inline__373c0__3JqBP border-color--default__373c0__3-ifU\"}).div.get('aria-label')\n",
    "            print(\"Rating:\",ratings)\n",
    "        except:\n",
    "            print(\"--Cannot find ratings--\")\n",
    "        print()\n",
    "        #Code to clean for angular brackets < >\n",
    "        p = re.compile('\\<.*?(\\S*)?\\>')\n",
    "        cleaned_item = re.sub('\\<.*?(\\S*)?\\>','',str(main))\n",
    "        #Code to clean for angular brackets {}\n",
    "        p = re.compile('\\{.*?(\\S*)?\\}')\n",
    "        cleaned_item = re.sub('\\{.*?(\\S*)?\\}','',str(cleaned_item))\n",
    "        print(cleaned_item)\n",
    "        reviews = cleaned_item\n",
    "        reviewDict.append([ratings,reviews])\n",
    "    except:\n",
    "        print(\"Error\")\n",
    "        \n",
    "    count+=1\n",
    "    \n"
   ]
  },
  {
   "cell_type": "code",
   "execution_count": 26,
   "metadata": {},
   "outputs": [],
   "source": []
  },
  {
   "cell_type": "code",
   "execution_count": 49,
   "metadata": {},
   "outputs": [],
   "source": [
    "for review in reviewDict:\n",
    "    f.write(\"\\n\" + review[0] + \",\" + review[1] )\n",
    "f.close()"
   ]
  },
  {
   "cell_type": "code",
   "execution_count": null,
   "metadata": {},
   "outputs": [],
   "source": []
  }
 ],
 "metadata": {
  "kernelspec": {
   "display_name": "Python 3",
   "language": "python",
   "name": "python3"
  },
  "language_info": {
   "codemirror_mode": {
    "name": "ipython",
    "version": 3
   },
   "file_extension": ".py",
   "mimetype": "text/x-python",
   "name": "python",
   "nbconvert_exporter": "python",
   "pygments_lexer": "ipython3",
   "version": "3.8.5-final"
  }
 },
 "nbformat": 4,
 "nbformat_minor": 2
}