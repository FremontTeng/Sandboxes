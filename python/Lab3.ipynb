{
 "cells": [
  {
   "cell_type": "code",
   "execution_count": 1,
   "metadata": {},
   "outputs": [],
   "source": [
    "#Import libraries\n",
    "import pandas as pd\n",
    "import socket\n",
    "import requests\n",
    "import math\n"
   ]
  },
  {
   "cell_type": "code",
   "execution_count": 2,
   "metadata": {},
   "outputs": [
    {
     "output_type": "execute_result",
     "data": {
      "text/plain": [
       "     0              1    2    3             4             5       6      7   \\\n",
       "0  FLOW  203.30.38.251  129  193  00135f21bc80  0031466b23cf  0x0800   11.0   \n",
       "1  FLOW  203.30.38.251  129  193  00135f21bc80  0031466b23cf  0x0800   11.0   \n",
       "2  FLOW  203.30.38.251  131  193  001cb0c88e40  0031466b23cf  0x0800   43.0   \n",
       "3  FLOW  203.30.38.251  135  129  002688cd5fc7  00135f21bc80  0x0800  919.0   \n",
       "4  FLOW  203.30.38.251  193  130  0031466b23cf  00239cd087c1  0x0800  919.0   \n",
       "\n",
       "    8                9               10  11    12  13       14     15    16  \\\n",
       "0  919    155.69.160.77  74.125.130.141   6  0x60  59  57577.0    443  0x10   \n",
       "1  919    155.69.160.78  74.125.203.128   6  0x00  59  34809.0    443  0x10   \n",
       "2  919  192.122.131.134    74.125.10.12   6  0x00  57  50549.0    443  0x10   \n",
       "3   11   54.169.229.179  155.69.191.254  17  0x00  57  16285.0  39641  0x10   \n",
       "4  919   209.85.229.247  137.132.228.34  17  0x00  63    443.0  32817  0x00   \n",
       "\n",
       "     17    18    19  \n",
       "0    74    52  2048  \n",
       "1  1442  1420  2048  \n",
       "2   102    80  2048  \n",
       "3   580   562  2048  \n",
       "4  1396  1378  2048  "
      ],
      "text/html": "<div>\n<style scoped>\n    .dataframe tbody tr th:only-of-type {\n        vertical-align: middle;\n    }\n\n    .dataframe tbody tr th {\n        vertical-align: top;\n    }\n\n    .dataframe thead th {\n        text-align: right;\n    }\n</style>\n<table border=\"1\" class=\"dataframe\">\n  <thead>\n    <tr style=\"text-align: right;\">\n      <th></th>\n      <th>0</th>\n      <th>1</th>\n      <th>2</th>\n      <th>3</th>\n      <th>4</th>\n      <th>5</th>\n      <th>6</th>\n      <th>7</th>\n      <th>8</th>\n      <th>9</th>\n      <th>10</th>\n      <th>11</th>\n      <th>12</th>\n      <th>13</th>\n      <th>14</th>\n      <th>15</th>\n      <th>16</th>\n      <th>17</th>\n      <th>18</th>\n      <th>19</th>\n    </tr>\n  </thead>\n  <tbody>\n    <tr>\n      <th>0</th>\n      <td>FLOW</td>\n      <td>203.30.38.251</td>\n      <td>129</td>\n      <td>193</td>\n      <td>00135f21bc80</td>\n      <td>0031466b23cf</td>\n      <td>0x0800</td>\n      <td>11.0</td>\n      <td>919</td>\n      <td>155.69.160.77</td>\n      <td>74.125.130.141</td>\n      <td>6</td>\n      <td>0x60</td>\n      <td>59</td>\n      <td>57577.0</td>\n      <td>443</td>\n      <td>0x10</td>\n      <td>74</td>\n      <td>52</td>\n      <td>2048</td>\n    </tr>\n    <tr>\n      <th>1</th>\n      <td>FLOW</td>\n      <td>203.30.38.251</td>\n      <td>129</td>\n      <td>193</td>\n      <td>00135f21bc80</td>\n      <td>0031466b23cf</td>\n      <td>0x0800</td>\n      <td>11.0</td>\n      <td>919</td>\n      <td>155.69.160.78</td>\n      <td>74.125.203.128</td>\n      <td>6</td>\n      <td>0x00</td>\n      <td>59</td>\n      <td>34809.0</td>\n      <td>443</td>\n      <td>0x10</td>\n      <td>1442</td>\n      <td>1420</td>\n      <td>2048</td>\n    </tr>\n    <tr>\n      <th>2</th>\n      <td>FLOW</td>\n      <td>203.30.38.251</td>\n      <td>131</td>\n      <td>193</td>\n      <td>001cb0c88e40</td>\n      <td>0031466b23cf</td>\n      <td>0x0800</td>\n      <td>43.0</td>\n      <td>919</td>\n      <td>192.122.131.134</td>\n      <td>74.125.10.12</td>\n      <td>6</td>\n      <td>0x00</td>\n      <td>57</td>\n      <td>50549.0</td>\n      <td>443</td>\n      <td>0x10</td>\n      <td>102</td>\n      <td>80</td>\n      <td>2048</td>\n    </tr>\n    <tr>\n      <th>3</th>\n      <td>FLOW</td>\n      <td>203.30.38.251</td>\n      <td>135</td>\n      <td>129</td>\n      <td>002688cd5fc7</td>\n      <td>00135f21bc80</td>\n      <td>0x0800</td>\n      <td>919.0</td>\n      <td>11</td>\n      <td>54.169.229.179</td>\n      <td>155.69.191.254</td>\n      <td>17</td>\n      <td>0x00</td>\n      <td>57</td>\n      <td>16285.0</td>\n      <td>39641</td>\n      <td>0x10</td>\n      <td>580</td>\n      <td>562</td>\n      <td>2048</td>\n    </tr>\n    <tr>\n      <th>4</th>\n      <td>FLOW</td>\n      <td>203.30.38.251</td>\n      <td>193</td>\n      <td>130</td>\n      <td>0031466b23cf</td>\n      <td>00239cd087c1</td>\n      <td>0x0800</td>\n      <td>919.0</td>\n      <td>919</td>\n      <td>209.85.229.247</td>\n      <td>137.132.228.34</td>\n      <td>17</td>\n      <td>0x00</td>\n      <td>63</td>\n      <td>443.0</td>\n      <td>32817</td>\n      <td>0x00</td>\n      <td>1396</td>\n      <td>1378</td>\n      <td>2048</td>\n    </tr>\n  </tbody>\n</table>\n</div>"
     },
     "metadata": {},
     "execution_count": 2
    }
   ],
   "source": [
    "full_data = pd.read_csv('SFlow Data -Sem 1 2020.csv', header=None)\n",
    "#Display full data\n",
    "full_data.head()"
   ]
  },
  {
   "cell_type": "code",
   "execution_count": 3,
   "metadata": {},
   "outputs": [],
   "source": [
    "#Functions\n",
    "\n",
    "#Count Occurence of all the items in a column into a dictionary\n",
    "def countOccurrence(data_list): \n",
    "    dct = {} \n",
    "    for i in data_list: \n",
    "        if not dct.get(i): \n",
    "            dct[i] = 0\n",
    "        dct[i] += 1\n",
    "    return dct \n",
    "\n",
    "#Get top 5 occurence from a list\n",
    "def getTop5(dct,mode):\n",
    "    i = 0 #intialize count variable \n",
    "    for w in sorted(dct, key=dct.get, reverse=True):\n",
    "        if (i<5):\n",
    "            print(w,\": \",dct[w])\n",
    "            #If mode is org\n",
    "            if (mode==\"org\"):\n",
    "                findorg(w)\n",
    "            elif (mode==\"port\"):\n",
    "                findportname(w)\n",
    "            i+=1\n",
    "\n",
    "#Get ip\n",
    "def findorg(ip):\n",
    "    try:\n",
    "        r = requests.get(\"http://free.ipwhois.io/json/\"+ip)\n",
    "        r = r.json()\n",
    "        print(r['org'])\n",
    "    except:\n",
    "        print(\"Error\")\n",
    "\n",
    "#Get port\n",
    "def findportname(port):\n",
    "    try:\n",
    "        serviceName = socket.getservbyport(port, \"tcp\")\n",
    "        print(serviceName)\n",
    "    except:\n",
    "        try:\n",
    "            serviceName = socket.getservbyport(port, \"udp\")\n",
    "            print(serviceName)\n",
    "        except:\n",
    "            if (port>1023 and port<49152):\n",
    "                print(\"Registered Port\")\n",
    "            elif (port>49151):\n",
    "                print(\"Private Port\")\n",
    "            else:\n",
    "                print(\"Error\")\n",
    "\n",
    "#Get Sum\n",
    "def getSum(lst):\n",
    "    print(\"Total Traffic: \",lst.sum(),\"MB\")\n",
    "\n",
    "#Get Proportion of TCP and UDP Packets\n",
    "def getProportion(occurence):\n",
    "    print(\"Occurence of TCP: \",occurence[6])\n",
    "    print(\"Occurence of UDP: \",occurence[17])\n",
    "    #Print Ratio of TCP:UDP\n",
    "    ratio_tcp = math.floor(occurence[6]/(occurence[6]+occurence[17])*10000)/100\n",
    "    ratio_UDP = math.floor(occurence[17]/(occurence[6]+occurence[17])*10000)/100\n",
    "    print()\n",
    "    print(\"Ratio Proportion of TCP:UDP\")\n",
    "    print(ratio_tcp,\"% :\",ratio_UDP,\"%\")"
   ]
  },
  {
   "cell_type": "code",
   "execution_count": 4,
   "metadata": {
    "tags": []
   },
   "outputs": [
    {
     "output_type": "stream",
     "name": "stdout",
     "text": [
      "Top 5 Talkers: \n103.26.47.233 :  9646\nError\n13.107.4.50 :  4950\nError\n155.69.160.78 :  4563\nError\n130.14.250.7 :  3914\nError\n173.194.22.215 :  2896\nError\n"
     ]
    }
   ],
   "source": [
    "#Get Talker List\n",
    "talker_list = countOccurrence(full_data[9])\n",
    "#Print top 5\n",
    "print(\"Top 5 Talkers: \")\n",
    "getTop5(talker_list,\"org\")\n"
   ]
  },
  {
   "cell_type": "code",
   "execution_count": 5,
   "metadata": {},
   "outputs": [
    {
     "output_type": "stream",
     "name": "stdout",
     "text": [
      "Top 5 Listeners: \n103.22.221.73 :  9646\nError\n137.132.228.33 :  7835\nError\n137.132.228.29 :  5964\nError\n137.132.228.42 :  4987\nError\n103.37.198.100 :  3915\nError\n"
     ]
    }
   ],
   "source": [
    "#Get Listener List\n",
    "listeners_list = countOccurrence(full_data[10])\n",
    "#Print top 5\n",
    "print(\"Top 5 Listeners: \")\n",
    "getTop5(listeners_list,\"org\")\n"
   ]
  },
  {
   "cell_type": "code",
   "execution_count": 6,
   "metadata": {},
   "outputs": [
    {
     "output_type": "stream",
     "name": "stdout",
     "text": [
      "Top 5 Applications: \n",
      "443 :  42975\n",
      "https\n",
      "80 :  11960\n",
      "http\n",
      "56800 :  3918\n",
      "Private Port\n",
      "15000 :  2697\n",
      "Registered Port\n",
      "44678 :  1158\n",
      "Registered Port\n"
     ]
    }
   ],
   "source": [
    "#Get Application List\n",
    "app_list = countOccurrence(full_data[15])\n",
    "#Print top 5\n",
    "print(\"Top 5 Applications: \")\n",
    "getTop5(app_list,\"port\")\n"
   ]
  },
  {
   "cell_type": "code",
   "execution_count": 7,
   "metadata": {},
   "outputs": [
    {
     "output_type": "stream",
     "name": "stdout",
     "text": [
      "Total Traffic:  4141352578 MB\n"
     ]
    }
   ],
   "source": [
    "#Total Traffic from column 17\n",
    "getSum(full_data[17])"
   ]
  },
  {
   "cell_type": "code",
   "execution_count": 8,
   "metadata": {},
   "outputs": [
    {
     "output_type": "stream",
     "name": "stdout",
     "text": [
      "Occurence of TCP:  155799\nOccurence of UDP:  45377\n\nRatio Proportion of TCP:UDP\n77.44 : 22.55\n"
     ]
    }
   ],
   "source": [
    "#Get occurence of TCP and UDP Packets\n",
    "proportion_list = countOccurrence(full_data[11])\n",
    "#Print Proportion\n",
    "getProportion(proportion_list)"
   ]
  },
  {
   "cell_type": "code",
   "execution_count": null,
   "metadata": {},
   "outputs": [],
   "source": []
  }
 ],
 "metadata": {
  "kernelspec": {
   "display_name": "Python 3",
   "language": "python",
   "name": "python3"
  },
  "language_info": {
   "codemirror_mode": {
    "name": "ipython",
    "version": 3
   },
   "file_extension": ".py",
   "mimetype": "text/x-python",
   "name": "python",
   "nbconvert_exporter": "python",
   "pygments_lexer": "ipython3",
   "version": "3.8.5-final"
  }
 },
 "nbformat": 4,
 "nbformat_minor": 4
}